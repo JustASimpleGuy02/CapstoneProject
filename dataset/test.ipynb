{
 "cells": [
  {
   "cell_type": "code",
   "execution_count": 1,
   "metadata": {},
   "outputs": [],
   "source": [
    "import json"
   ]
  },
  {
   "cell_type": "code",
   "execution_count": 4,
   "metadata": {},
   "outputs": [],
   "source": [
    "metadatas = json.load(open(\"../data/polyvore_outfits/polyvore_item_metadata.json\", 'r'))"
   ]
  },
  {
   "cell_type": "code",
   "execution_count": 5,
   "metadata": {},
   "outputs": [],
   "source": [
    "meta = metadatas[\"92189933\"]"
   ]
  },
  {
   "cell_type": "code",
   "execution_count": 8,
   "metadata": {},
   "outputs": [
    {
     "data": {
      "text/plain": [
       "{'url_name': 'raxevsky jolene mustard double-breasted cape',\n",
       " 'description': 'A really chic cape by Raxevsky. Bring your look into full bloom by pairing the JOLENE Mustard Double-Breasted Cape with a pair of blue jeans, a white blouse and suede short boots for a minimal but stylish look at the same time that you can easily wear any time of the day. Two front pockets. Fastens with a double series of metallic buttons at front. Collar with metallic button closure.',\n",
       " 'catgeories': [\"Women's Fashion\", 'Clothing', 'Outerwear', 'Coats'],\n",
       " 'title': 'RAXEVSKY JOLENE Mustard Double-Breasted Cape',\n",
       " 'related': ['Cape coats',\n",
       "  'Button coat',\n",
       "  'Double breasted coat',\n",
       "  'Beige coat',\n",
       "  'Metallic coat',\n",
       "  'Collar coat'],\n",
       " 'category_id': '24',\n",
       " 'semantic_category': 'outerwear'}"
      ]
     },
     "execution_count": 8,
     "metadata": {},
     "output_type": "execute_result"
    }
   ],
   "source": [
    "meta"
   ]
  },
  {
   "cell_type": "code",
   "execution_count": 14,
   "metadata": {},
   "outputs": [
    {
     "name": "stdout",
     "output_type": "stream",
     "text": [
      "raxevsky jolene mustard double-breasted cape\n",
      "A really chic cape by Raxevsky. Bring your look into full bloom by pairing the JOLENE Mustard Double-Breasted Cape with a pair of blue jeans, a white blouse and suede short boots for a minimal but stylish look at the same time that you can easily wear any time of the day. Two front pockets. Fastens with a double series of metallic buttons at front. Collar with metallic button closure.\n",
      "[\"Women's Fashion\", 'Clothing', 'Outerwear', 'Coats']\n",
      "RAXEVSKY JOLENE Mustard Double-Breasted Cape\n"
     ]
    }
   ],
   "source": [
    "url_name = meta.get(\"url_name\", \"untitled\")\n",
    "description = meta.get(\"description\", \"\")\n",
    "categories = meta.get(\"catgeories\", \"\")\n",
    "title = meta.get(\"title\", \"untitled\")\n",
    "\n",
    "print(url_name)\n",
    "print(description)\n",
    "print(categories)\n",
    "print(title)"
   ]
  },
  {
   "cell_type": "code",
   "execution_count": null,
   "metadata": {},
   "outputs": [],
   "source": []
  }
 ],
 "metadata": {
  "kernelspec": {
   "display_name": "Python 3.9.16 ('namph')",
   "language": "python",
   "name": "python3"
  },
  "language_info": {
   "codemirror_mode": {
    "name": "ipython",
    "version": 3
   },
   "file_extension": ".py",
   "mimetype": "text/x-python",
   "name": "python",
   "nbconvert_exporter": "python",
   "pygments_lexer": "ipython3",
   "version": "3.9.16"
  },
  "orig_nbformat": 4,
  "vscode": {
   "interpreter": {
    "hash": "f3956098809fbecdb0cd9151aa3d96b93ad3c7565181a3f5ad9a456aaf113d5a"
   }
  }
 },
 "nbformat": 4,
 "nbformat_minor": 2
}
