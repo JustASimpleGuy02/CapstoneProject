{
 "cells": [
  {
   "cell_type": "code",
   "execution_count": 1,
   "metadata": {},
   "outputs": [],
   "source": [
    "import os\n",
    "import json\n",
    "import pandas as pd\n",
    "import numpy as np\n",
    "import seaborn as sns                       #visualisation\n",
    "import matplotlib.pyplot as plt             #visualisation\n",
    "from tqdm import tqdm\n",
    "from PIL import Image\n",
    "%matplotlib inline     \n",
    "sns.set(color_codes=True)"
   ]
  },
  {
   "cell_type": "markdown",
   "metadata": {},
   "source": [
    "# Convert to CSV"
   ]
  },
  {
   "cell_type": "code",
   "execution_count": null,
   "metadata": {},
   "outputs": [],
   "source": [
    "import pickle\n",
    "\n",
    "with open('data/polyvore/sentence_vector/semantic.pkl', 'rb') as f:\n",
    "    data = pickle.load(f)\n",
    "\n",
    "with open('data/polyvore/fashion_items.pickle', 'rb') as f:\n",
    "    fashion_items = pickle.load(f)"
   ]
  },
  {
   "cell_type": "code",
   "execution_count": null,
   "metadata": {},
   "outputs": [],
   "source": [
    "# len(fashion_items.items())\n",
    "print(fashion_items['fc29eece94d29722603d0c13b24d8f9ed9068496.jpg'])"
   ]
  },
  {
   "cell_type": "code",
   "execution_count": null,
   "metadata": {},
   "outputs": [],
   "source": [
    "print(len(os.listdir('data/polyvore/images/291x291/')))"
   ]
  },
  {
   "cell_type": "code",
   "execution_count": null,
   "metadata": {},
   "outputs": [],
   "source": [
    "data_dir = \"data/polyvore/\"\n",
    "\n",
    "path2images = os.path.join(data_dir, \"images\", \"291x291\")\n",
    "filenames = os.listdir(path2images)\n",
    "full_filenames = [os.path.join(path2images, filename)\n",
    "                    for filename in filenames]"
   ]
  },
  {
   "cell_type": "code",
   "execution_count": 6,
   "metadata": {},
   "outputs": [
    {
     "name": "stderr",
     "output_type": "stream",
     "text": [
      "31815it [03:12, 165.63it/s]\n"
     ]
    },
    {
     "ename": "KeyboardInterrupt",
     "evalue": "",
     "output_type": "error",
     "traceback": [
      "\u001b[1;31m---------------------------------------------------------------------------\u001b[0m",
      "\u001b[1;31mKeyError\u001b[0m                                  Traceback (most recent call last)",
      "File \u001b[1;32mc:\\Users\\NamPH\\anaconda3\\envs\\namph\\lib\\site-packages\\pandas\\core\\indexes\\base.py:3802\u001b[0m, in \u001b[0;36mIndex.get_loc\u001b[1;34m(self, key, method, tolerance)\u001b[0m\n\u001b[0;32m   3801\u001b[0m \u001b[39mtry\u001b[39;00m:\n\u001b[1;32m-> 3802\u001b[0m     \u001b[39mreturn\u001b[39;00m \u001b[39mself\u001b[39;49m\u001b[39m.\u001b[39;49m_engine\u001b[39m.\u001b[39;49mget_loc(casted_key)\n\u001b[0;32m   3803\u001b[0m \u001b[39mexcept\u001b[39;00m \u001b[39mKeyError\u001b[39;00m \u001b[39mas\u001b[39;00m err:\n",
      "File \u001b[1;32mc:\\Users\\NamPH\\anaconda3\\envs\\namph\\lib\\site-packages\\pandas\\_libs\\index.pyx:138\u001b[0m, in \u001b[0;36mpandas._libs.index.IndexEngine.get_loc\u001b[1;34m()\u001b[0m\n",
      "File \u001b[1;32mc:\\Users\\NamPH\\anaconda3\\envs\\namph\\lib\\site-packages\\pandas\\_libs\\index.pyx:165\u001b[0m, in \u001b[0;36mpandas._libs.index.IndexEngine.get_loc\u001b[1;34m()\u001b[0m\n",
      "File \u001b[1;32mpandas\\_libs\\hashtable_class_helper.pxi:2263\u001b[0m, in \u001b[0;36mpandas._libs.hashtable.Int64HashTable.get_item\u001b[1;34m()\u001b[0m\n",
      "File \u001b[1;32mpandas\\_libs\\hashtable_class_helper.pxi:2273\u001b[0m, in \u001b[0;36mpandas._libs.hashtable.Int64HashTable.get_item\u001b[1;34m()\u001b[0m\n",
      "\u001b[1;31mKeyError\u001b[0m: 31815",
      "\nDuring handling of the above exception, another exception occurred:\n",
      "\u001b[1;31mKeyboardInterrupt\u001b[0m                         Traceback (most recent call last)",
      "Cell \u001b[1;32mIn[6], line 35\u001b[0m\n\u001b[0;32m     32\u001b[0m     \u001b[39mif\u001b[39;00m \u001b[39mlen\u001b[39m(name) \u001b[39m>\u001b[39m \u001b[39m0\u001b[39m:\n\u001b[0;32m     33\u001b[0m         obj[\u001b[39m'\u001b[39m\u001b[39mname\u001b[39m\u001b[39m'\u001b[39m] \u001b[39m=\u001b[39m name\n\u001b[1;32m---> 35\u001b[0m df\u001b[39m.\u001b[39mloc[idx] \u001b[39m=\u001b[39m obj\n",
      "File \u001b[1;32mc:\\Users\\NamPH\\anaconda3\\envs\\namph\\lib\\site-packages\\pandas\\core\\indexing.py:814\u001b[0m, in \u001b[0;36m_LocationIndexer.__setitem__\u001b[1;34m(self, key, value)\u001b[0m\n\u001b[0;32m    812\u001b[0m \u001b[39melse\u001b[39;00m:\n\u001b[0;32m    813\u001b[0m     key \u001b[39m=\u001b[39m com\u001b[39m.\u001b[39mapply_if_callable(key, \u001b[39mself\u001b[39m\u001b[39m.\u001b[39mobj)\n\u001b[1;32m--> 814\u001b[0m indexer \u001b[39m=\u001b[39m \u001b[39mself\u001b[39;49m\u001b[39m.\u001b[39;49m_get_setitem_indexer(key)\n\u001b[0;32m    815\u001b[0m \u001b[39mself\u001b[39m\u001b[39m.\u001b[39m_has_valid_setitem_indexer(key)\n\u001b[0;32m    817\u001b[0m iloc \u001b[39m=\u001b[39m \u001b[39mself\u001b[39m \u001b[39mif\u001b[39;00m \u001b[39mself\u001b[39m\u001b[39m.\u001b[39mname \u001b[39m==\u001b[39m \u001b[39m\"\u001b[39m\u001b[39miloc\u001b[39m\u001b[39m\"\u001b[39m \u001b[39melse\u001b[39;00m \u001b[39mself\u001b[39m\u001b[39m.\u001b[39mobj\u001b[39m.\u001b[39miloc\n",
      "File \u001b[1;32mc:\\Users\\NamPH\\anaconda3\\envs\\namph\\lib\\site-packages\\pandas\\core\\indexing.py:703\u001b[0m, in \u001b[0;36m_LocationIndexer._get_setitem_indexer\u001b[1;34m(self, key)\u001b[0m\n\u001b[0;32m    699\u001b[0m \u001b[39mif\u001b[39;00m \u001b[39misinstance\u001b[39m(key, \u001b[39mrange\u001b[39m):\n\u001b[0;32m    700\u001b[0m     \u001b[39m# GH#45479 test_loc_setitem_range_key\u001b[39;00m\n\u001b[0;32m    701\u001b[0m     key \u001b[39m=\u001b[39m \u001b[39mlist\u001b[39m(key)\n\u001b[1;32m--> 703\u001b[0m \u001b[39mreturn\u001b[39;00m \u001b[39mself\u001b[39;49m\u001b[39m.\u001b[39;49m_convert_to_indexer(key, axis\u001b[39m=\u001b[39;49m\u001b[39m0\u001b[39;49m)\n",
      "File \u001b[1;32mc:\\Users\\NamPH\\anaconda3\\envs\\namph\\lib\\site-packages\\pandas\\core\\indexing.py:1366\u001b[0m, in \u001b[0;36m_LocIndexer._convert_to_indexer\u001b[1;34m(self, key, axis)\u001b[0m\n\u001b[0;32m   1361\u001b[0m \u001b[39mif\u001b[39;00m is_scalar(key) \u001b[39mor\u001b[39;00m (\u001b[39misinstance\u001b[39m(labels, MultiIndex) \u001b[39mand\u001b[39;00m is_hashable(key)):\n\u001b[0;32m   1362\u001b[0m     \u001b[39m# Otherwise get_loc will raise InvalidIndexError\u001b[39;00m\n\u001b[0;32m   1363\u001b[0m \n\u001b[0;32m   1364\u001b[0m     \u001b[39m# if we are a label return me\u001b[39;00m\n\u001b[0;32m   1365\u001b[0m     \u001b[39mtry\u001b[39;00m:\n\u001b[1;32m-> 1366\u001b[0m         \u001b[39mreturn\u001b[39;00m labels\u001b[39m.\u001b[39;49mget_loc(key)\n\u001b[0;32m   1367\u001b[0m     \u001b[39mexcept\u001b[39;00m \u001b[39mLookupError\u001b[39;00m:\n\u001b[0;32m   1368\u001b[0m         \u001b[39mif\u001b[39;00m \u001b[39misinstance\u001b[39m(key, \u001b[39mtuple\u001b[39m) \u001b[39mand\u001b[39;00m \u001b[39misinstance\u001b[39m(labels, MultiIndex):\n",
      "File \u001b[1;32mc:\\Users\\NamPH\\anaconda3\\envs\\namph\\lib\\site-packages\\pandas\\core\\indexes\\base.py:3802\u001b[0m, in \u001b[0;36mIndex.get_loc\u001b[1;34m(self, key, method, tolerance)\u001b[0m\n\u001b[0;32m   3800\u001b[0m casted_key \u001b[39m=\u001b[39m \u001b[39mself\u001b[39m\u001b[39m.\u001b[39m_maybe_cast_indexer(key)\n\u001b[0;32m   3801\u001b[0m \u001b[39mtry\u001b[39;00m:\n\u001b[1;32m-> 3802\u001b[0m     \u001b[39mreturn\u001b[39;00m \u001b[39mself\u001b[39;49m\u001b[39m.\u001b[39;49m_engine\u001b[39m.\u001b[39;49mget_loc(casted_key)\n\u001b[0;32m   3803\u001b[0m \u001b[39mexcept\u001b[39;00m \u001b[39mKeyError\u001b[39;00m \u001b[39mas\u001b[39;00m err:\n\u001b[0;32m   3804\u001b[0m     \u001b[39mraise\u001b[39;00m \u001b[39mKeyError\u001b[39;00m(key) \u001b[39mfrom\u001b[39;00m \u001b[39merr\u001b[39;00m\n",
      "\u001b[1;31mKeyboardInterrupt\u001b[0m: "
     ]
    }
   ],
   "source": [
    "df = pd.DataFrame(columns=['image_name', 'semantic_vector', 'text', 'price', 'class', 'categories', 'name'])\n",
    "\n",
    "for idx, image_fullname in tqdm(enumerate(full_filenames)):\n",
    "    image_name = os.path.basename(image_fullname)\n",
    "    obj = {\n",
    "        'image_name': image_name\n",
    "    }\n",
    "    \n",
    "    if image_name in data:\n",
    "        obj['semantic_vector'] = data[image_name]\n",
    "    \n",
    "    if image_name in fashion_items:\n",
    "        metadata = fashion_items[image_name]\n",
    "        \n",
    "        text = metadata.get(\"text\", \"\").lower()\n",
    "        if len(text) > 0:\n",
    "            obj['text'] = text\n",
    "        \n",
    "        price = metadata.get(\"price\", \"\").lower()\n",
    "        if len(price) > 0:\n",
    "            obj['price'] = price\n",
    "        \n",
    "        item_class = metadata.get(\"class\", \"\").lower()\n",
    "        if len(item_class) > 0:\n",
    "            obj['class'] = item_class\n",
    "        \n",
    "        categories = metadata.get(\"categories\", \"\")\n",
    "        if type(categories) == list:\n",
    "            obj['categories'] = categories\n",
    "        \n",
    "        name = metadata.get(\"name\", \"\").lower()\n",
    "        if len(name) > 0:\n",
    "            obj['name'] = name\n",
    "            \n",
    "    df.loc[idx] = obj"
   ]
  },
  {
   "cell_type": "code",
   "execution_count": null,
   "metadata": {},
   "outputs": [],
   "source": [
    "df.head()"
   ]
  },
  {
   "cell_type": "code",
   "execution_count": null,
   "metadata": {},
   "outputs": [],
   "source": [
    "df.to_csv(\"data/csv_files/fashion_hash_net_polyvore.csv\")"
   ]
  },
  {
   "cell_type": "markdown",
   "metadata": {},
   "source": [
    "# EDA"
   ]
  },
  {
   "cell_type": "code",
   "execution_count": 2,
   "metadata": {},
   "outputs": [],
   "source": [
    "df = pd.read_csv('data/csv_files/fashion_hash_net_polyvore.csv', index_col=0)"
   ]
  },
  {
   "cell_type": "code",
   "execution_count": 3,
   "metadata": {},
   "outputs": [
    {
     "data": {
      "text/html": [
       "<div>\n",
       "<style scoped>\n",
       "    .dataframe tbody tr th:only-of-type {\n",
       "        vertical-align: middle;\n",
       "    }\n",
       "\n",
       "    .dataframe tbody tr th {\n",
       "        vertical-align: top;\n",
       "    }\n",
       "\n",
       "    .dataframe thead th {\n",
       "        text-align: right;\n",
       "    }\n",
       "</style>\n",
       "<table border=\"1\" class=\"dataframe\">\n",
       "  <thead>\n",
       "    <tr style=\"text-align: right;\">\n",
       "      <th></th>\n",
       "      <th>image_name</th>\n",
       "      <th>semantic_vector</th>\n",
       "      <th>text</th>\n",
       "      <th>price</th>\n",
       "      <th>class</th>\n",
       "      <th>categories</th>\n",
       "      <th>name</th>\n",
       "    </tr>\n",
       "  </thead>\n",
       "  <tbody>\n",
       "    <tr>\n",
       "      <th>0</th>\n",
       "      <td>00000265469f3a78c8aa403be9fd3e48164ce60d.jpg</td>\n",
       "      <td>[ 0.49362503  0.69441192 -0.10652015 ... -1.33...</td>\n",
       "      <td>black 'babel' skirt from stella mccartney feat...</td>\n",
       "      <td>$560</td>\n",
       "      <td>bottom</td>\n",
       "      <td>['Shop', 'STELLA McCARTNEY skirts', 'Knee Leng...</td>\n",
       "      <td>stella mccartney 'babel' skirt</td>\n",
       "    </tr>\n",
       "    <tr>\n",
       "      <th>1</th>\n",
       "      <td>000019937000419153d38c1ad121cd8212a44d6b.jpg</td>\n",
       "      <td>[ 0.45428534  0.64565642  0.08123788 ...  0.48...</td>\n",
       "      <td>upper: 100% polyurethane. lining: 30% polyeste...</td>\n",
       "      <td>$30</td>\n",
       "      <td>shoe</td>\n",
       "      <td>['Shop', 'Boots', 'Ankle Booties', 'Zara ankle...</td>\n",
       "      <td>zara high heel peep toe ankle boot</td>\n",
       "    </tr>\n",
       "    <tr>\n",
       "      <th>2</th>\n",
       "      <td>0000d33894d75c8839a29a216d9b8e02d1c8c038.jpg</td>\n",
       "      <td>[ 0.74397239  0.8889248  -0.1560354  ... -1.99...</td>\n",
       "      <td>aqua and black snowflake fuzzy jumper</td>\n",
       "      <td>$25</td>\n",
       "      <td>top</td>\n",
       "      <td>['Shop', 'Quiz sweaters', 'Sweaters', 'Tops']</td>\n",
       "      <td>aqua and black snowflake fuzzy jumper</td>\n",
       "    </tr>\n",
       "    <tr>\n",
       "      <th>3</th>\n",
       "      <td>0001b622ca48ea813463bec15f920b0c3328f5d7.jpg</td>\n",
       "      <td>[-0.19374584 -0.22611103  0.92135967 ...  1.20...</td>\n",
       "      <td>black linen henley t-shirt. buttoned placket. ...</td>\n",
       "      <td>$390</td>\n",
       "      <td>top</td>\n",
       "      <td>[]</td>\n",
       "      <td>balmain linen henley t-shirt</td>\n",
       "    </tr>\n",
       "    <tr>\n",
       "      <th>4</th>\n",
       "      <td>0001ead5bcc80123df2864e48d0009224fbec2bc.jpg</td>\n",
       "      <td>[-0.61890043  0.33185416  0.10417655 ...  0.97...</td>\n",
       "      <td>day birger et mikkelsen night velvet lounge bl...</td>\n",
       "      <td>$138</td>\n",
       "      <td>top</td>\n",
       "      <td>['Shop', 'DAY Birger et Mikkelsen', 'Clothing'...</td>\n",
       "      <td>day birger et mikkelsen night velvet lounge em...</td>\n",
       "    </tr>\n",
       "  </tbody>\n",
       "</table>\n",
       "</div>"
      ],
      "text/plain": [
       "                                     image_name  \\\n",
       "0  00000265469f3a78c8aa403be9fd3e48164ce60d.jpg   \n",
       "1  000019937000419153d38c1ad121cd8212a44d6b.jpg   \n",
       "2  0000d33894d75c8839a29a216d9b8e02d1c8c038.jpg   \n",
       "3  0001b622ca48ea813463bec15f920b0c3328f5d7.jpg   \n",
       "4  0001ead5bcc80123df2864e48d0009224fbec2bc.jpg   \n",
       "\n",
       "                                     semantic_vector  \\\n",
       "0  [ 0.49362503  0.69441192 -0.10652015 ... -1.33...   \n",
       "1  [ 0.45428534  0.64565642  0.08123788 ...  0.48...   \n",
       "2  [ 0.74397239  0.8889248  -0.1560354  ... -1.99...   \n",
       "3  [-0.19374584 -0.22611103  0.92135967 ...  1.20...   \n",
       "4  [-0.61890043  0.33185416  0.10417655 ...  0.97...   \n",
       "\n",
       "                                                text price   class  \\\n",
       "0  black 'babel' skirt from stella mccartney feat...  $560  bottom   \n",
       "1  upper: 100% polyurethane. lining: 30% polyeste...   $30    shoe   \n",
       "2              aqua and black snowflake fuzzy jumper   $25     top   \n",
       "3  black linen henley t-shirt. buttoned placket. ...  $390     top   \n",
       "4  day birger et mikkelsen night velvet lounge bl...  $138     top   \n",
       "\n",
       "                                          categories  \\\n",
       "0  ['Shop', 'STELLA McCARTNEY skirts', 'Knee Leng...   \n",
       "1  ['Shop', 'Boots', 'Ankle Booties', 'Zara ankle...   \n",
       "2      ['Shop', 'Quiz sweaters', 'Sweaters', 'Tops']   \n",
       "3                                                 []   \n",
       "4  ['Shop', 'DAY Birger et Mikkelsen', 'Clothing'...   \n",
       "\n",
       "                                                name  \n",
       "0                     stella mccartney 'babel' skirt  \n",
       "1                 zara high heel peep toe ankle boot  \n",
       "2              aqua and black snowflake fuzzy jumper  \n",
       "3                       balmain linen henley t-shirt  \n",
       "4  day birger et mikkelsen night velvet lounge em...  "
      ]
     },
     "execution_count": 3,
     "metadata": {},
     "output_type": "execute_result"
    }
   ],
   "source": [
    "df.head()"
   ]
  },
  {
   "cell_type": "code",
   "execution_count": 4,
   "metadata": {},
   "outputs": [
    {
     "data": {
      "text/plain": [
       "image_name         object\n",
       "semantic_vector    object\n",
       "text               object\n",
       "price              object\n",
       "class              object\n",
       "categories         object\n",
       "name               object\n",
       "dtype: object"
      ]
     },
     "execution_count": 4,
     "metadata": {},
     "output_type": "execute_result"
    }
   ],
   "source": [
    "df.dtypes"
   ]
  },
  {
   "cell_type": "code",
   "execution_count": 5,
   "metadata": {},
   "outputs": [
    {
     "data": {
      "text/plain": [
       "(293680, 7)"
      ]
     },
     "execution_count": 5,
     "metadata": {},
     "output_type": "execute_result"
    }
   ],
   "source": [
    "df.shape"
   ]
  },
  {
   "cell_type": "code",
   "execution_count": 6,
   "metadata": {},
   "outputs": [
    {
     "data": {
      "text/plain": [
       "image_name         293680\n",
       "semantic_vector    293680\n",
       "text               293679\n",
       "price              281216\n",
       "class              293680\n",
       "categories         293680\n",
       "name               293680\n",
       "dtype: int64"
      ]
     },
     "execution_count": 6,
     "metadata": {},
     "output_type": "execute_result"
    }
   ],
   "source": [
    "df.count()"
   ]
  },
  {
   "cell_type": "code",
   "execution_count": 7,
   "metadata": {},
   "outputs": [
    {
     "data": {
      "image/png": "[encoded data removed]",
      "text/plain": [
       "<Figure size 1600x400 with 1 Axes>"
      ]
     },
     "metadata": {},
     "output_type": "display_data"
    }
   ],
   "source": [
    "plt.figure(figsize=(16, 4))\n",
    "\n",
    "df[\"class\"].value_counts(sort=True).plot(kind='bar')\n",
    "plt.title(\"Class count\")\n",
    "\n",
    "plt.show()"
   ]
  },
  {
   "cell_type": "code",
   "execution_count": 8,
   "metadata": {},
   "outputs": [
    {
     "data": {
      "text/plain": [
       "image_name             0\n",
       "semantic_vector        0\n",
       "text                   1\n",
       "price              12464\n",
       "class                  0\n",
       "categories             0\n",
       "name                   0\n",
       "dtype: int64"
      ]
     },
     "execution_count": 8,
     "metadata": {},
     "output_type": "execute_result"
    }
   ],
   "source": [
    "df.isna().sum()"
   ]
  },
  {
   "cell_type": "code",
   "execution_count": 9,
   "metadata": {},
   "outputs": [
    {
     "data": {
      "text/html": [
       "<div>\n",
       "<style scoped>\n",
       "    .dataframe tbody tr th:only-of-type {\n",
       "        vertical-align: middle;\n",
       "    }\n",
       "\n",
       "    .dataframe tbody tr th {\n",
       "        vertical-align: top;\n",
       "    }\n",
       "\n",
       "    .dataframe thead th {\n",
       "        text-align: right;\n",
       "    }\n",
       "</style>\n",
       "<table border=\"1\" class=\"dataframe\">\n",
       "  <thead>\n",
       "    <tr style=\"text-align: right;\">\n",
       "      <th></th>\n",
       "      <th>image_name</th>\n",
       "      <th>semantic_vector</th>\n",
       "      <th>text</th>\n",
       "      <th>price</th>\n",
       "      <th>class</th>\n",
       "      <th>categories</th>\n",
       "      <th>name</th>\n",
       "    </tr>\n",
       "  </thead>\n",
       "  <tbody>\n",
       "    <tr>\n",
       "      <th>254331</th>\n",
       "      <td>dd7d572b8a600be4d91b5d4b3d64f94d84665220.jpg</td>\n",
       "      <td>[ 2.51225503 -0.38514746 -2.42791259 ... -1.68...</td>\n",
       "      <td>NaN</td>\n",
       "      <td>$268</td>\n",
       "      <td>top</td>\n",
       "      <td>['Shop', 'Tops', 'Preen tops', 'Clothing']</td>\n",
       "      <td>preen polly top</td>\n",
       "    </tr>\n",
       "  </tbody>\n",
       "</table>\n",
       "</div>"
      ],
      "text/plain": [
       "                                          image_name  \\\n",
       "254331  dd7d572b8a600be4d91b5d4b3d64f94d84665220.jpg   \n",
       "\n",
       "                                          semantic_vector text price class  \\\n",
       "254331  [ 2.51225503 -0.38514746 -2.42791259 ... -1.68...  NaN  $268   top   \n",
       "\n",
       "                                        categories             name  \n",
       "254331  ['Shop', 'Tops', 'Preen tops', 'Clothing']  preen polly top  "
      ]
     },
     "execution_count": 9,
     "metadata": {},
     "output_type": "execute_result"
    }
   ],
   "source": [
    "df[df['text'].isna()]"
   ]
  }
 ],
 "metadata": {
  "kernelspec": {
   "display_name": "Python 3.9.16 ('namph')",
   "language": "python",
   "name": "python3"
  },
  "language_info": {
   "codemirror_mode": {
    "name": "ipython",
    "version": 3
   },
   "file_extension": ".py",
   "mimetype": "text/x-python",
   "name": "python",
   "nbconvert_exporter": "python",
   "pygments_lexer": "ipython3",
   "version": "3.9.16"
  },
  "orig_nbformat": 4,
  "vscode": {
   "interpreter": {
    "hash": "f3956098809fbecdb0cd9151aa3d96b93ad3c7565181a3f5ad9a456aaf113d5a"
   }
  }
 },
 "nbformat": 4,
 "nbformat_minor": 2
}
