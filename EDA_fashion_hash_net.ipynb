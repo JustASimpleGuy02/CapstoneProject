{
 "cells": [
  {
   "cell_type": "code",
   "execution_count": 1,
   "metadata": {},
   "outputs": [],
   "source": [
    "import os\n",
    "import json\n",
    "import pandas as pd\n",
    "import numpy as np\n",
    "import seaborn as sns                       #visualisation\n",
    "import matplotlib.pyplot as plt             #visualisation\n",
    "from tqdm import tqdm\n",
    "from PIL import Image\n",
    "%matplotlib inline     \n",
    "sns.set(color_codes=True)"
   ]
  },
  {
   "cell_type": "code",
   "execution_count": 2,
   "metadata": {},
   "outputs": [],
   "source": [
    "import pickle\n",
    "\n",
    "with open('data/polyvore/sentence_vector/semantic.pkl', 'rb') as f:\n",
    "    data = pickle.load(f)\n",
    "\n",
    "with open('data/polyvore/fashion_items.pickle', 'rb') as f:\n",
    "    fashion_items = pickle.load(f)"
   ]
  },
  {
   "cell_type": "code",
   "execution_count": 4,
   "metadata": {},
   "outputs": [
    {
     "data": {
      "text/plain": [
       "540700"
      ]
     },
     "execution_count": 4,
     "metadata": {},
     "output_type": "execute_result"
    }
   ],
   "source": [
    "len(fashion_items.items())"
   ]
  },
  {
   "cell_type": "code",
   "execution_count": 3,
   "metadata": {},
   "outputs": [
    {
     "data": {
      "text/plain": [
       "(2400,)"
      ]
     },
     "execution_count": 3,
     "metadata": {},
     "output_type": "execute_result"
    }
   ],
   "source": [
    "data['fc29eece94d29722603d0c13b24d8f9ed9068496.jpg'].shape"
   ]
  },
  {
   "cell_type": "code",
   "execution_count": 4,
   "metadata": {},
   "outputs": [
    {
     "name": "stdout",
     "output_type": "stream",
     "text": [
      "293681\n"
     ]
    }
   ],
   "source": [
    "print(len(data.keys()))"
   ]
  },
  {
   "cell_type": "code",
   "execution_count": 5,
   "metadata": {},
   "outputs": [
    {
     "name": "stdout",
     "output_type": "stream",
     "text": [
      "293680\n"
     ]
    }
   ],
   "source": [
    "print(len(os.listdir('data/polyvore/images/291x291/')))"
   ]
  },
  {
   "cell_type": "code",
   "execution_count": 6,
   "metadata": {},
   "outputs": [
    {
     "name": "stdout",
     "output_type": "stream",
     "text": [
      "Key: null\n",
      "Value: [ 0.17659502 -0.22829114  0.23184823 ...  0.02090033 -0.08637467\n",
      "  0.1841205 ]\n"
     ]
    }
   ],
   "source": [
    "del_list = []\n",
    "\n",
    "for key in data.keys():\n",
    "    if not os.path.exists('data/polyvore/images/291x291/' + key):\n",
    "        print(\"Key: {}\".format(key))\n",
    "        print(\"Value: {}\".format(data[key]))\n",
    "        del_list.append(key)        "
   ]
  },
  {
   "cell_type": "code",
   "execution_count": 7,
   "metadata": {},
   "outputs": [
    {
     "name": "stdout",
     "output_type": "stream",
     "text": [
      "293680\n"
     ]
    }
   ],
   "source": [
    "for key in del_list:\n",
    "    del data[key]\n",
    "\n",
    "print(len(data.keys()))"
   ]
  },
  {
   "cell_type": "code",
   "execution_count": 27,
   "metadata": {},
   "outputs": [],
   "source": [
    "# paths = ['data/polyvore/tuples_32',\n",
    "#          'data/polyvore/tuples_53',\n",
    "#          'data/polyvore/tuples_519',\n",
    "#          'data/polyvore/tuples_630']\n",
    "\n",
    "# filenames = ['image_list_bottom',\n",
    "#              'image_list_shoe',\n",
    "#              'image_list_top']\n",
    "\n",
    "# list_image_bottom = []\n",
    "# list_image_shoe = []\n",
    "# list_image_top = []\n",
    "\n",
    "# for path in paths:\n",
    "#     with open(os.path.join(path, filenames[0]), 'rb') as f:\n",
    "#         list_image_bottom += [line.rstrip().decode() for line in f]\n",
    "#     with open(os.path.join(path, filenames[1]), 'rb') as f:\n",
    "#         list_image_shoe += [line.rstrip().decode() for line in f]\n",
    "#     with open(os.path.join(path, filenames[2]), 'rb') as f:\n",
    "#         list_image_top += [line.rstrip().decode() for line in f]\n",
    "\n",
    "# list_image_bottom = list(set(list_image_bottom))\n",
    "# list_image_shoe = list(set(list_image_shoe))\n",
    "# list_image_top = list(set(list_image_top))"
   ]
  },
  {
   "cell_type": "code",
   "execution_count": 23,
   "metadata": {},
   "outputs": [
    {
     "name": "stdout",
     "output_type": "stream",
     "text": [
      "16a67caba9be05fb6b0f92f253d337865335a5d6.jpg\n"
     ]
    }
   ],
   "source": [
    "df = pd.DataFrame(columns=['id', 'semantic_vector'])\n",
    "\n",
    "for id, semantic_vector in"
   ]
  }
 ],
 "metadata": {
  "kernelspec": {
   "display_name": "Python 3.9.16 ('namph')",
   "language": "python",
   "name": "python3"
  },
  "language_info": {
   "codemirror_mode": {
    "name": "ipython",
    "version": 3
   },
   "file_extension": ".py",
   "mimetype": "text/x-python",
   "name": "python",
   "nbconvert_exporter": "python",
   "pygments_lexer": "ipython3",
   "version": "3.9.16"
  },
  "orig_nbformat": 4,
  "vscode": {
   "interpreter": {
    "hash": "f3956098809fbecdb0cd9151aa3d96b93ad3c7565181a3f5ad9a456aaf113d5a"
   }
  }
 },
 "nbformat": 4,
 "nbformat_minor": 2
}
